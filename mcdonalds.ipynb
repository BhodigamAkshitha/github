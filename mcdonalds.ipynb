{
 "cells": [
  {
   "cell_type": "markdown",
   "id": "0d35f035",
   "metadata": {},
   "source": [
    "## Step 4:Exploring Data\n"
   ]
  },
  {
   "cell_type": "code",
   "execution_count": 125,
   "id": "e0eff489",
   "metadata": {},
   "outputs": [
    {
     "name": "stdout",
     "output_type": "stream",
     "text": [
      "['yummy', 'convenient', 'spicy', 'fattening', 'greasy', 'fast', 'cheap', 'tasty', 'expensive', 'healthy', 'disgusting', 'Like', 'Age', 'VisitFrequency', 'Gender']\n"
     ]
    }
   ],
   "source": [
    "import pandas as pd\n",
    "import numpy as np\n",
    "\n",
    "mcdonalds=pd.read_csv('mcdonalds.csv')\n",
    "print(list(mcdonalds.columns))"
   ]
  },
  {
   "cell_type": "code",
   "execution_count": 126,
   "id": "198c5d0d",
   "metadata": {},
   "outputs": [
    {
     "data": {
      "text/plain": [
       "(1453, 15)"
      ]
     },
     "execution_count": 126,
     "metadata": {},
     "output_type": "execute_result"
    }
   ],
   "source": [
    "mcdonalds.shape\n"
   ]
  },
  {
   "cell_type": "code",
   "execution_count": 127,
   "id": "1cb4cd90",
   "metadata": {},
   "outputs": [
    {
     "data": {
      "text/html": [
       "<div>\n",
       "<style scoped>\n",
       "    .dataframe tbody tr th:only-of-type {\n",
       "        vertical-align: middle;\n",
       "    }\n",
       "\n",
       "    .dataframe tbody tr th {\n",
       "        vertical-align: top;\n",
       "    }\n",
       "\n",
       "    .dataframe thead th {\n",
       "        text-align: right;\n",
       "    }\n",
       "</style>\n",
       "<table border=\"1\" class=\"dataframe\">\n",
       "  <thead>\n",
       "    <tr style=\"text-align: right;\">\n",
       "      <th></th>\n",
       "      <th>yummy</th>\n",
       "      <th>convenient</th>\n",
       "      <th>spicy</th>\n",
       "      <th>fattening</th>\n",
       "      <th>greasy</th>\n",
       "      <th>fast</th>\n",
       "      <th>cheap</th>\n",
       "      <th>tasty</th>\n",
       "      <th>expensive</th>\n",
       "      <th>healthy</th>\n",
       "      <th>disgusting</th>\n",
       "      <th>Like</th>\n",
       "      <th>Age</th>\n",
       "      <th>VisitFrequency</th>\n",
       "      <th>Gender</th>\n",
       "    </tr>\n",
       "  </thead>\n",
       "  <tbody>\n",
       "    <tr>\n",
       "      <th>0</th>\n",
       "      <td>No</td>\n",
       "      <td>Yes</td>\n",
       "      <td>No</td>\n",
       "      <td>Yes</td>\n",
       "      <td>No</td>\n",
       "      <td>Yes</td>\n",
       "      <td>Yes</td>\n",
       "      <td>No</td>\n",
       "      <td>Yes</td>\n",
       "      <td>No</td>\n",
       "      <td>No</td>\n",
       "      <td>-3</td>\n",
       "      <td>61</td>\n",
       "      <td>Every three months</td>\n",
       "      <td>Female</td>\n",
       "    </tr>\n",
       "    <tr>\n",
       "      <th>1</th>\n",
       "      <td>Yes</td>\n",
       "      <td>Yes</td>\n",
       "      <td>No</td>\n",
       "      <td>Yes</td>\n",
       "      <td>Yes</td>\n",
       "      <td>Yes</td>\n",
       "      <td>Yes</td>\n",
       "      <td>Yes</td>\n",
       "      <td>Yes</td>\n",
       "      <td>No</td>\n",
       "      <td>No</td>\n",
       "      <td>2</td>\n",
       "      <td>51</td>\n",
       "      <td>Every three months</td>\n",
       "      <td>Female</td>\n",
       "    </tr>\n",
       "    <tr>\n",
       "      <th>2</th>\n",
       "      <td>No</td>\n",
       "      <td>Yes</td>\n",
       "      <td>Yes</td>\n",
       "      <td>Yes</td>\n",
       "      <td>Yes</td>\n",
       "      <td>Yes</td>\n",
       "      <td>No</td>\n",
       "      <td>Yes</td>\n",
       "      <td>Yes</td>\n",
       "      <td>Yes</td>\n",
       "      <td>No</td>\n",
       "      <td>1</td>\n",
       "      <td>62</td>\n",
       "      <td>Every three months</td>\n",
       "      <td>Female</td>\n",
       "    </tr>\n",
       "  </tbody>\n",
       "</table>\n",
       "</div>"
      ],
      "text/plain": [
       "  yummy convenient spicy fattening greasy fast cheap tasty expensive healthy  \\\n",
       "0    No        Yes    No       Yes     No  Yes   Yes    No       Yes      No   \n",
       "1   Yes        Yes    No       Yes    Yes  Yes   Yes   Yes       Yes      No   \n",
       "2    No        Yes   Yes       Yes    Yes  Yes    No   Yes       Yes     Yes   \n",
       "\n",
       "  disgusting Like  Age      VisitFrequency  Gender  \n",
       "0         No   -3   61  Every three months  Female  \n",
       "1         No    2   51  Every three months  Female  \n",
       "2         No    1   62  Every three months  Female  "
      ]
     },
     "execution_count": 127,
     "metadata": {},
     "output_type": "execute_result"
    }
   ],
   "source": [
    "mcdonalds.head(3)"
   ]
  },
  {
   "cell_type": "code",
   "execution_count": 128,
   "id": "f488a885",
   "metadata": {},
   "outputs": [
    {
     "name": "stdout",
     "output_type": "stream",
     "text": [
      "yummy         0.0\n",
      "convenient    0.0\n",
      "spicy         0.0\n",
      "fattening     0.0\n",
      "greasy        0.0\n",
      "fast          0.0\n",
      "cheap         0.0\n",
      "tasty         0.0\n",
      "expensive     0.0\n",
      "healthy       0.0\n",
      "disgusting    0.0\n",
      "dtype: float64\n"
     ]
    }
   ],
   "source": [
    "MD_x =(mcdonalds.iloc[:, 0:11])\n",
    "MD_x=(MD_x == \"yes\").astype(int)\n",
    "\n",
    "col_means = np.round(np.mean(MD_x, axis=0), 2)\n",
    "print (col_means)"
   ]
  },
  {
   "cell_type": "code",
   "execution_count": 129,
   "id": "b6c12ffa",
   "metadata": {},
   "outputs": [
    {
     "name": "stdout",
     "output_type": "stream",
     "text": [
      "Explained Variance Ratio:\n",
      "[0.29944723 0.19279721 0.13304535 0.08309578 0.05948052 0.05029956\n",
      " 0.0438491  0.03954779 0.0367609  0.03235329 0.02932326]\n",
      "\n",
      "Summary Table:\n",
      "      PC  Standard deviation  Proportion of Variance  Cumulative Proportion\n",
      "0    PC1            0.757050                0.299447               0.299447\n",
      "1    PC2            0.607456                0.192797               0.492244\n",
      "2    PC3            0.504619                0.133045               0.625290\n",
      "3    PC4            0.398799                0.083096               0.708386\n",
      "4    PC5            0.337405                0.059481               0.767866\n",
      "5    PC6            0.310275                0.050300               0.818166\n",
      "6    PC7            0.289697                0.043849               0.862015\n",
      "7    PC8            0.275122                0.039548               0.901563\n",
      "8    PC9            0.265251                0.036761               0.938323\n",
      "9   PC10            0.248842                0.032353               0.970677\n",
      "10  PC11            0.236903                0.029323               1.000000\n"
     ]
    }
   ],
   "source": [
    "\n",
    "from sklearn.decomposition import PCA\n",
    "import pandas as pd\n",
    "\n",
    "MD_x = mcdonalds.iloc[:, 0:11].values\n",
    "MD_x = (MD_x == \"Yes\").astype(int)\n",
    "MD_pca = PCA().fit(MD_x)\n",
    "\n",
    "\n",
    "print(\"Explained Variance Ratio:\")\n",
    "print(MD_pca.explained_variance_ratio_)\n",
    "\n",
    "n_components = MD_pca.n_components_\n",
    "summary_table = pd.DataFrame({\n",
    "    \"PC\": [\"PC\" + str(i+1) for i in range(n_components)],\n",
    "    \"Standard deviation\": MD_pca.explained_variance_**0.5,\n",
    "    \"Proportion of Variance\": MD_pca.explained_variance_ratio_,\n",
    "    \"Cumulative Proportion\": np.cumsum(MD_pca.explained_variance_ratio_)\n",
    "})\n",
    "print(\"\\nSummary Table:\")\n",
    "print(summary_table)\n"
   ]
  },
  {
   "cell_type": "code",
   "execution_count": 130,
   "id": "8f49fd1f",
   "metadata": {},
   "outputs": [
    {
     "name": "stdout",
     "output_type": "stream",
     "text": [
      "    Standard Deviation\n",
      "0                  0.8\n",
      "1                  0.6\n",
      "2                  0.5\n",
      "3                  0.4\n",
      "4                  0.3\n",
      "5                  0.3\n",
      "6                  0.3\n",
      "7                  0.3\n",
      "8                  0.3\n",
      "9                  0.2\n",
      "10                 0.2\n"
     ]
    }
   ],
   "source": [
    "\n",
    "MD_x = mcdonalds.iloc[:, 0:11].values\n",
    "MD_x = (MD_x == \"Yes\").astype(int)\n",
    "MD_pca = PCA().fit(MD_x)\n",
    "print(pd.DataFrame({\n",
    "    \"Standard Deviation\": MD_pca.explained_variance_**0.5,\n",
    "    \n",
    "}).round(1))"
   ]
  },
  {
   "cell_type": "code",
   "execution_count": 132,
   "id": "ed76ca2e",
   "metadata": {},
   "outputs": [
    {
     "name": "stdout",
     "output_type": "stream",
     "text": [
      "              PC1    PC2    PC3    PC4    PC5    PC6    PC7    PC8    PC9  \\\n",
      "yummy      -0.477  0.364 -0.304  0.055 -0.308  0.171 -0.281  0.013  0.572   \n",
      "convenient -0.155  0.016 -0.063 -0.142  0.278 -0.348 -0.060 -0.113 -0.018   \n",
      "spicy      -0.006  0.019 -0.037  0.198  0.071 -0.355  0.708  0.376  0.400   \n",
      "fattening   0.116 -0.034 -0.322 -0.354 -0.073 -0.407 -0.386  0.590 -0.161   \n",
      "greasy      0.304 -0.064 -0.802  0.254  0.361  0.209  0.036 -0.138 -0.003   \n",
      "fast       -0.108 -0.087 -0.065 -0.097  0.108 -0.595 -0.087 -0.628  0.166   \n",
      "cheap      -0.337 -0.611 -0.149  0.119 -0.129 -0.103 -0.040  0.140  0.076   \n",
      "tasty      -0.472  0.307 -0.287 -0.003 -0.211 -0.077  0.360 -0.073 -0.639   \n",
      "expensive   0.329  0.601  0.024  0.068 -0.003 -0.261 -0.068  0.030  0.067   \n",
      "healthy    -0.214  0.077  0.192  0.763  0.288 -0.178 -0.350  0.176 -0.186   \n",
      "disgusting  0.375 -0.140 -0.089  0.370 -0.729 -0.211 -0.027 -0.167 -0.072   \n",
      "\n",
      "             PC10   PC11  \n",
      "yummy      -0.110  0.045  \n",
      "convenient -0.666 -0.542  \n",
      "spicy      -0.076  0.142  \n",
      "fattening  -0.005  0.251  \n",
      "greasy      0.009  0.002  \n",
      "fast        0.240  0.339  \n",
      "cheap       0.428 -0.489  \n",
      "tasty       0.079  0.020  \n",
      "expensive   0.454 -0.490  \n",
      "healthy    -0.038  0.158  \n",
      "disgusting -0.290 -0.041  \n"
     ]
    }
   ],
   "source": [
    "# Get the loading matrix\n",
    "loading_matrix = MD_pca.components_.T\n",
    "\n",
    "# Convert the loading matrix \n",
    "loading_matrix_df = pd.DataFrame(loading_matrix, columns=['PC1', 'PC2', 'PC3', 'PC4', 'PC5', 'PC6', 'PC7', 'PC8', 'PC9', 'PC10', 'PC11'], \n",
    "                                 index=['yummy', 'convenient', 'spicy', 'fattening', 'greasy', 'fast', 'cheap', 'tasty', 'expensive', 'healthy', 'disgusting'])\n",
    "\n",
    "loading_matrix_df = loading_matrix_df.round(3)\n",
    "\n",
    "# Print the loading matrix\n",
    "print(loading_matrix_df)\n"
   ]
  },
  {
   "cell_type": "code",
   "execution_count": 133,
   "id": "b5a74a93",
   "metadata": {},
   "outputs": [
    {
     "data": {
      "image/png": "[encoded data removed]",
      "text/plain": [
       "<Figure size 800x600 with 1 Axes>"
      ]
     },
     "metadata": {},
     "output_type": "display_data"
    },
    {
     "name": "stdout",
     "output_type": "stream",
     "text": [
      "[[-0.47693349  0.36378978]\n",
      " [-0.15533159  0.016414  ]\n",
      " [-0.00635636  0.01880869]\n",
      " [ 0.11623168 -0.03409395]\n",
      " [ 0.3044427  -0.06383884]\n",
      " [-0.10849325 -0.0869722 ]\n",
      " [-0.33718593 -0.61063276]\n",
      " [-0.47151394  0.3073178 ]\n",
      " [ 0.32904173  0.60128596]\n",
      " [-0.21371062  0.07659344]\n",
      " [ 0.37475293 -0.13965633]]\n"
     ]
    }
   ],
   "source": [
    "import matplotlib.pyplot as plt\n",
    "from sklearn.decomposition import PCA\n",
    "\n",
    "pca = PCA(n_components=2)\n",
    "pca.fit(MD_x)\n",
    "transformed_data = pca.transform(MD_x)\n",
    "\n",
    "plt.scatter(transformed_data[:, 0], transformed_data[:, 1], c='grey')\n",
    "plt.xlabel('PC1')\n",
    "plt.ylabel('PC2')\n",
    "plt.show()\n",
    "\n",
    "proj_axes = pca.components_.T[:, :2]  \n",
    "print(proj_axes)\n"
   ]
  },
  {
   "cell_type": "markdown",
   "id": "d9275f30",
   "metadata": {},
   "source": [
    "## Step 5:Extracting Segments"
   ]
  },
  {
   "cell_type": "code",
   "execution_count": 134,
   "id": "5d49f7bd",
   "metadata": {},
   "outputs": [],
   "source": [
    "import numpy as np\n",
    "from sklearn.cluster import KMeans\n",
    "from sklearn.decomposition import PCA\n",
    "np.random.seed(1234)\n",
    "\n",
    "pca = PCA(n_components=2)\n",
    "MD_pca = pca.fit_transform(MD_x)\n",
    "\n",
    "n_clusters = range(2, 9)\n",
    "kmeans_models = [KMeans(n_clusters=k, n_init=10) for k in n_clusters]\n",
    "kmeans_results = [kmeans_models[i].fit(MD_pca) for i in range(len(kmeans_models))]\n",
    "\n",
    "MD_km28 = [kmeans_results[i].labels_ for i in range(len(kmeans_results))]\n"
   ]
  },
  {
   "cell_type": "code",
   "execution_count": 135,
   "id": "c562b393",
   "metadata": {},
   "outputs": [
    {
     "data": {
      "image/png": "[encoded data removed]",
      "text/plain": [
       "<Figure size 800x600 with 1 Axes>"
      ]
     },
     "metadata": {},
     "output_type": "display_data"
    }
   ],
   "source": [
    "\n",
    "import numpy as np\n",
    "from sklearn.cluster import KMeans\n",
    "import matplotlib.pyplot as plt\n",
    "\n",
    "np.random.seed(1234)\n",
    "inertias = []\n",
    "for n_clusters in range(2, 9):\n",
    "    kmeans = KMeans(n_clusters=n_clusters, n_init=10)\n",
    "    kmeans.fit(MD_x)\n",
    "    inertias.append(kmeans.inertia_)\n",
    "plt.plot(range(2, 9), inertias, marker='o')\n",
    "plt.xlabel('Number of Segments')\n",
    "plt.ylabel('Inertia')\n",
    "plt.show()\n"
   ]
  },
  {
   "cell_type": "code",
   "execution_count": 143,
   "id": "6f86ca08",
   "metadata": {},
   "outputs": [],
   "source": [
    "from sklearn.cluster import KMeans\n",
    "import pandas as pd\n",
    "import numpy as np\n",
    "\n",
    "mcdonalds=pd.read_csv('mcdonalds.csv')\n",
    "\n",
    "# Assuming MD.x is a numpy array or a pandas dataframe\n",
    "MD_x = mcdonalds.iloc[:, 0:11].values\n",
    "MD_x = (MD_x == \"Yes\").astype(int)\n",
    "k = 4\n",
    "kmeans_model = KMeans(n_clusters=k,n_init='auto', random_state=0).fit(MD_x)\n",
    "MD_k4 = kmeans_model.labels_\n",
    "MD_r4 = kmeans_model.predict(MD_x)\n"
   ]
  },
  {
   "cell_type": "code",
   "execution_count": 144,
   "id": "ed35ffab",
   "metadata": {},
   "outputs": [],
   "source": [
    "## Using Mixtures of Regression Models"
   ]
  },
  {
   "cell_type": "code",
   "execution_count": 145,
   "id": "c4dfcc3c",
   "metadata": {},
   "outputs": [
    {
     "name": "stdout",
     "output_type": "stream",
     "text": [
      "-1               58\n",
      "-2               59\n",
      "-4               71\n",
      "-3               73\n",
      "I love it!+5    143\n",
      "I hate it!-5    152\n",
      "1               152\n",
      "4               160\n",
      "0               169\n",
      "2               187\n",
      "3               229\n",
      "Name: Like, dtype: int64\n"
     ]
    }
   ],
   "source": [
    "freq_table = mcdonalds['Like'].value_counts()\n",
    "reversed_table = freq_table.iloc[::-1]\n",
    "print(reversed_table)\n"
   ]
  },
  {
   "cell_type": "code",
   "execution_count": 146,
   "id": "8007e4a6",
   "metadata": {},
   "outputs": [
    {
     "name": "stdout",
     "output_type": "stream",
     "text": [
      "3     229\n",
      "4     187\n",
      "6     169\n",
      "2     160\n",
      "5     152\n",
      "11    152\n",
      "1     143\n",
      "9      73\n",
      "10     71\n",
      "8      59\n",
      "7      58\n",
      "Name: Like.n, dtype: int64\n"
     ]
    }
   ],
   "source": [
    "mcdonalds['Like.n'] = 6 - mcdonalds['Like'].apply(lambda x: int(x.split('!')[1]) if '!' in x else int(x))\n",
    "print(mcdonalds['Like.n'].value_counts())\n"
   ]
  },
  {
   "cell_type": "code",
   "execution_count": 147,
   "id": "6e25cfa3",
   "metadata": {},
   "outputs": [
    {
     "name": "stdout",
     "output_type": "stream",
     "text": [
      "Like.n ~ yummy + convenient + spicy + fattening + greasy + fast + cheap + tasty + expensive + healthy + disgusting\n"
     ]
    }
   ],
   "source": [
    "f = \" + \".join(mcdonalds.columns[:11])\n",
    "f = \"Like.n ~ \" + f\n",
    "print (f)\n"
   ]
  },
  {
   "cell_type": "markdown",
   "id": "c3bf42ce",
   "metadata": {},
   "source": [
    "## Step 6: Proﬁling Segments\n"
   ]
  },
  {
   "cell_type": "code",
   "execution_count": 148,
   "id": "bde37035",
   "metadata": {},
   "outputs": [],
   "source": [
    "from sklearn.cluster import KMeans\n",
    "import numpy as np\n",
    "np.random.seed(1234)\n",
    "kmeans = KMeans(random_state=1234)\n",
    "n_clusters = range(2,9)\n",
    "inertias = []\n",
    "for k in n_clusters:\n",
    "    kmeans.set_params(n_clusters=k,n_init='auto')\n",
    "    kmeans.fit(MD_x)\n",
    "    inertias.append(kmeans.inertia_)\n",
    "\n",
    "n_clusters = 3\n",
    "kmeans.set_params(n_clusters=n_clusters)\n",
    "MD_km28 = kmeans.fit_predict(MD_x)\n",
    "MD_k4 = MD_km28[3]\n"
   ]
  },
  {
   "cell_type": "markdown",
   "id": "e4cea75f",
   "metadata": {},
   "source": [
    "### Step 7: Describing Segments"
   ]
  },
  {
   "cell_type": "code",
   "execution_count": 149,
   "id": "7b06f9f2",
   "metadata": {},
   "outputs": [],
   "source": [
    "import pandas as pd\n",
    "from sklearn.cluster import KMeans\n",
    "from sklearn.decomposition import PCA\n",
    "mcdonalds=pd.read_csv('mcdonalds.csv')\n",
    "MD_x = mcdonalds.iloc[:, :11].apply(lambda x: x == \"Yes\").astype(int).to_numpy()\n",
    "pca = PCA()\n",
    "MD_pca = pca.fit_transform(MD_x)\n",
    "kmeans = KMeans(n_clusters=4,n_init='auto', random_state=1234)\n",
    "kmeans.fit(MD_x)\n",
    "k4 = kmeans.predict(MD_x)\n",
    "\n",
    "\n"
   ]
  },
  {
   "cell_type": "markdown",
   "id": "50434915",
   "metadata": {},
   "source": [
    "### Step 8: Selecting (the) Target Segment(s)"
   ]
  },
  {
   "cell_type": "code",
   "execution_count": 150,
   "id": "af04b21e",
   "metadata": {},
   "outputs": [
    {
     "name": "stdout",
     "output_type": "stream",
     "text": [
      "0    0.406593\n",
      "1    0.584989\n",
      "2    0.580060\n",
      "3    0.555556\n",
      "Name: Gender, dtype: float64\n"
     ]
    }
   ],
   "source": [
    "female = mcdonalds['Gender'].eq('Female').groupby(k4).mean()\n",
    "print(female)\n"
   ]
  },
  {
   "cell_type": "code",
   "execution_count": 151,
   "id": "4bc60430",
   "metadata": {},
   "outputs": [
    {
     "name": "stdout",
     "output_type": "stream",
     "text": [
      "0   -0.755319\n",
      "1    2.431694\n",
      "2   -0.659176\n",
      "3    1.786350\n",
      "Name: Like, dtype: float64\n"
     ]
    }
   ],
   "source": [
    "mcdonalds['Like'] = pd.to_numeric(mcdonalds['Like'], errors='coerce')\n",
    "like = mcdonalds['Like'].groupby(k4).mean()\n",
    "print(like)"
   ]
  }
 ],
 "metadata": {
  "kernelspec": {
   "display_name": "Python 3 (ipykernel)",
   "language": "python",
   "name": "python3"
  },
  "language_info": {
   "codemirror_mode": {
    "name": "ipython",
    "version": 3
   },
   "file_extension": ".py",
   "mimetype": "text/x-python",
   "name": "python",
   "nbconvert_exporter": "python",
   "pygments_lexer": "ipython3",
   "version": "3.10.9"
  }
 },
 "nbformat": 4,
 "nbformat_minor": 5
}
